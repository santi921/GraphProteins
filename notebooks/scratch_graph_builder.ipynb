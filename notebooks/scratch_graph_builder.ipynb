{
 "cells": [
  {
   "cell_type": "code",
   "execution_count": 3,
   "metadata": {},
   "outputs": [],
   "source": [
    "import dgl\n",
    "import numpy as np \n",
    "import networkx as nx \n",
    "cutoff = 1.2\n",
    "file = \"../data/distance_matrix_trajectories_only_skip3.csv\" # 6 classes"
   ]
  },
  {
   "cell_type": "code",
   "execution_count": 34,
   "metadata": {},
   "outputs": [
    {
     "name": "stdout",
     "output_type": "stream",
     "text": [
      "Graph with 114 nodes and 596 edges\n"
     ]
    }
   ],
   "source": [
    "dist_matrix = np.genfromtxt(file, delimiter=',', skip_header=1)\n",
    "header = np.genfromtxt(file, delimiter=',', dtype=str, max_rows=1)\n",
    "mean = np.mean(dist_matrix)\n",
    "std = np.std(dist_matrix)\n",
    "dist_matrix = (dist_matrix) / std\n",
    "dist_mask = np.where(dist_matrix > cutoff, 0, dist_matrix)\n",
    "G = nx.from_numpy_array(dist_mask)\n",
    "print(G)\n",
    "\n",
    "unique_prots = [i.split(\"_\")[0] for i in header]\n",
    "unique_prots = list(set(unique_prots))\n",
    "one_hot_list = [unique_prots.index(i.split(\"_\")[0]) for i in header]\n",
    "mapping =  { x:ind for  x, ind in enumerate(header) }\n",
    "mapping_one_hot =  { x:ind for  x, ind in enumerate(one_hot_list) }\n",
    "#G_relab = nx.relabel_nodes(G, mapping)\n",
    "#print(G_relab)\n",
    "#labels = list(mapping_one_hot.values())\n",
    "#graph_nx = G_relab\n",
    "\n",
    "degree_dict = {}\n",
    "for (node, val) in G.degree(): degree_dict[node] = val \n",
    "nx.set_node_attributes(G, degree_dict, 'degree')\n",
    "graph = dgl.from_networkx(\n",
    "            G.to_directed(), \n",
    "            node_attrs = [\"degree\"], \n",
    "            edge_attrs=[\"weight\"])\n",
    "#graph = dgl.from_networkx(G)"
   ]
  },
  {
   "cell_type": "code",
   "execution_count": 35,
   "metadata": {},
   "outputs": [
    {
     "name": "stdout",
     "output_type": "stream",
     "text": [
      "{'degree': tensor([ 3,  5, 12, 11,  8,  8,  1,  3,  7,  9,  2,  1,  6,  4,  7, 13, 29, 10,\n",
      "         8,  6, 18, 10,  9,  9, 16, 12,  7, 11,  9,  7,  2,  5,  3,  8,  8,  2,\n",
      "         2,  3, 10,  4,  8,  6, 22,  3, 14,  8, 16, 31,  8,  6, 27, 24, 15, 10,\n",
      "        20, 24, 13, 20,  8,  7, 26, 20, 21,  1,  5,  7,  9,  1,  0,  5,  6,  3,\n",
      "         8,  6,  4,  4, 10,  4,  0,  0,  9,  6, 20, 12,  4, 14,  3,  3, 11,  4,\n",
      "         4, 20, 22, 21, 16, 11, 13, 16, 12, 23, 17, 21, 21, 14, 15, 18, 20,  5,\n",
      "        23,  9,  5, 18, 12, 12])}\n",
      "{'weight': tensor([1.1306, 1.0678, 1.1673,  ..., 1.0079, 1.0281, 0.5799])}\n"
     ]
    }
   ],
   "source": [
    "print(graph.ndata)\n",
    "print(graph.edata)"
   ]
  },
  {
   "cell_type": "code",
   "execution_count": null,
   "metadata": {},
   "outputs": [],
   "source": []
  }
 ],
 "metadata": {
  "kernelspec": {
   "display_name": "Python 3.7.0 ('bondnet')",
   "language": "python",
   "name": "python3"
  },
  "language_info": {
   "codemirror_mode": {
    "name": "ipython",
    "version": 3
   },
   "file_extension": ".py",
   "mimetype": "text/x-python",
   "name": "python",
   "nbconvert_exporter": "python",
   "pygments_lexer": "ipython3",
   "version": "3.7.0"
  },
  "orig_nbformat": 4,
  "vscode": {
   "interpreter": {
    "hash": "c205a9eb4435b0aa27aaf0e9c4340d2b9512e0cc8b49dbd290219ad3711c312f"
   }
  }
 },
 "nbformat": 4,
 "nbformat_minor": 2
}
