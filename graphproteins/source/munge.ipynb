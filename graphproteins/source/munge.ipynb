{
 "cells": [
  {
   "cell_type": "code",
   "execution_count": 4,
   "metadata": {},
   "outputs": [],
   "source": [
    "import pandas as pd \n",
    "from sklearn_extra.cluster import KMedoids\n",
    "df = pd.read_csv(\"../../data/distance_matrix_0930.csv\")"
   ]
  },
  {
   "cell_type": "code",
   "execution_count": 9,
   "metadata": {},
   "outputs": [],
   "source": [
    "kmedoids = KMedoids(n_clusters=8, random_state=0).fit(df.to_numpy())"
   ]
  },
  {
   "cell_type": "code",
   "execution_count": 14,
   "metadata": {},
   "outputs": [
    {
     "data": {
      "text/plain": [
       "array([[0.42813973, 0.3414036 , 0.48752604, ..., 0.05190156, 0.04681009,\n",
       "        0.08554351],\n",
       "       [0.72775961, 0.66530308, 0.79280886, ..., 0.09909009, 0.13578582,\n",
       "        0.12941533],\n",
       "       [0.64811365, 0.56108942, 0.71126352, ..., 0.04154513, 0.07414141,\n",
       "        0.05610014],\n",
       "       ...,\n",
       "       [0.02685762, 0.06549426, 0.01327413, ..., 0.65305291, 0.59955247,\n",
       "        0.70112448],\n",
       "       [0.52511093, 0.44214563, 0.5862338 , ..., 0.04259827, 0.03082239,\n",
       "        0.06964179],\n",
       "       [0.2364995 , 0.15407269, 0.27965812, ..., 0.18262179, 0.15746996,\n",
       "        0.21366818]])"
      ]
     },
     "execution_count": 14,
     "metadata": {},
     "output_type": "execute_result"
    }
   ],
   "source": [
    "kmedoids.cluster_centers_ # use this to get center point of "
   ]
  },
  {
   "cell_type": "code",
   "execution_count": 18,
   "metadata": {},
   "outputs": [],
   "source": [
    "df = pd.read_csv(\"../../data/distance_matrix_0930.csv\")\n",
    "df\n",
    "df[\"Unnamed: 0\"]\n",
    "df = df.drop([\"Unnamed: 0\"], axis=1)\n",
    "df = df.drop([\"Unnamed: 0.1\"], axis=1)\n",
    "df.to_csv(\"../../data/distance_matrix_0930.csv\", index=False)"
   ]
  },
  {
   "cell_type": "code",
   "execution_count": 3,
   "metadata": {},
   "outputs": [],
   "source": [
    "df = pd.read_csv(\"../../data/distance_matrix_0930.csv\")\n"
   ]
  },
  {
   "cell_type": "code",
   "execution_count": 14,
   "metadata": {},
   "outputs": [
    {
     "data": {
      "text/plain": [
       "['1a4e',\n",
       " '1apx',\n",
       " '1bgp',\n",
       " '1dgh',\n",
       " '1dz9',\n",
       " '1ebe',\n",
       " '1gvh',\n",
       " '1gwf',\n",
       " '1gwh',\n",
       " '1hch',\n",
       " '1iyn',\n",
       " '1jio',\n",
       " '1lga',\n",
       " '1ly9',\n",
       " '1m7s',\n",
       " '1mjt',\n",
       " '1mqf',\n",
       " '1n6b',\n",
       " '1p3v',\n",
       " '1pa2',\n",
       " '1qgj',\n",
       " '1qpa',\n",
       " '1si8',\n",
       " '1sj2',\n",
       " '1sy7',\n",
       " '1u5u',\n",
       " '1ued',\n",
       " '1ulw',\n",
       " '1v8x',\n",
       " '1wox',\n",
       " '2a9e',\n",
       " '2d09',\n",
       " '2e39',\n",
       " '2hi4',\n",
       " '2iqf',\n",
       " '2j2m',\n",
       " '2nnj',\n",
       " '2ve3',\n",
       " '2vxh',\n",
       " '2w0a',\n",
       " '2wh8',\n",
       " '2wm4',\n",
       " '2x5l',\n",
       " '2xkr',\n",
       " '2yp1',\n",
       " '2z3t',\n",
       " '2zdo',\n",
       " '2zqx',\n",
       " '3aba',\n",
       " '3abb',\n",
       " '3atj',\n",
       " '3b4x',\n",
       " '3bk9',\n",
       " '3cv8',\n",
       " '3czh',\n",
       " '3czy',\n",
       " '3e65',\n",
       " '3gas',\n",
       " '3hb6',\n",
       " '3hdl',\n",
       " '3lgm',\n",
       " '3m8m',\n",
       " '3mdr',\n",
       " '3mgx',\n",
       " '3mvr',\n",
       " '3n9y',\n",
       " '3nn1',\n",
       " '3ozv',\n",
       " '3qpi',\n",
       " '3r9b',\n",
       " '3re8',\n",
       " '3riv',\n",
       " '3rke',\n",
       " '3rqo',\n",
       " '3rwl',\n",
       " '3s4f',\n",
       " '3t3q',\n",
       " '3t3z',\n",
       " '3ut2',\n",
       " '3uw8',\n",
       " '3v8d',\n",
       " '3vm4',\n",
       " '3vxi',\n",
       " '3wrh',\n",
       " '3wsp',\n",
       " '3wxo',\n",
       " '3zj5',\n",
       " '3zkp',\n",
       " '4a5g',\n",
       " '4au9',\n",
       " '4aul',\n",
       " '4b2y',\n",
       " '4b7f',\n",
       " '4ccp',\n",
       " '4coh',\n",
       " '4cuo',\n",
       " '4d1o',\n",
       " '4d3t',\n",
       " '4d6z',\n",
       " '4dnj',\n",
       " '4e2p',\n",
       " '4eji',\n",
       " '4ep6',\n",
       " '4g2c',\n",
       " '4g3j',\n",
       " '4g7t',\n",
       " '4ggv',\n",
       " '4gqe',\n",
       " '4grc',\n",
       " '4gs1',\n",
       " '4gt2',\n",
       " '4hov',\n",
       " '4hsw',\n",
       " '4i91',\n",
       " '4ict',\n",
       " '4jm5',\n",
       " '4l0f',\n",
       " '4lht',\n",
       " '4lxj',\n",
       " '4nl5',\n",
       " '4nos',\n",
       " '4nz2',\n",
       " '4o1z',\n",
       " '4ph9',\n",
       " '4rm4',\n",
       " '4tt5',\n",
       " '4tvf',\n",
       " '4u72',\n",
       " '4ubs',\n",
       " '4uhi',\n",
       " '4wnu',\n",
       " '4xmc',\n",
       " '4y55',\n",
       " '4yt3',\n",
       " '4yzr',\n",
       " '5a12',\n",
       " '5a13',\n",
       " '5aog',\n",
       " '5dqn',\n",
       " '5edt',\n",
       " '5esn',\n",
       " '5fiw',\n",
       " '5foi',\n",
       " '5fuk',\n",
       " '5fw4',\n",
       " '5gnl',\n",
       " '5gt2',\n",
       " '5hdi',\n",
       " '5hiw',\n",
       " '5hwz',\n",
       " '5it1',\n",
       " '5jlc',\n",
       " '5jqr',\n",
       " '5kq3',\n",
       " '5kzl',\n",
       " '5l1s',\n",
       " '5l92',\n",
       " '5lie',\n",
       " '5o1l',\n",
       " '5o4k',\n",
       " '5sx0',\n",
       " '5tia',\n",
       " '5tz1',\n",
       " '5uo7',\n",
       " '5wp2',\n",
       " '5yem',\n",
       " '5ylw',\n",
       " '6a17',\n",
       " '6b11',\n",
       " '6cr2',\n",
       " '6fiy',\n",
       " '6fyj',\n",
       " '6g5o',\n",
       " '6gk5',\n",
       " '6h1l',\n",
       " '6h1t',\n",
       " '6iss',\n",
       " '6j95',\n",
       " '6l8h',\n",
       " '6mcw',\n",
       " '6mjm',\n",
       " '6mq0',\n",
       " '6nsw',\n",
       " '6rjn',\n",
       " '6rjr',\n",
       " '6tb8',\n",
       " '6u30',\n",
       " '6wk3']"
      ]
     },
     "execution_count": 14,
     "metadata": {},
     "output_type": "execute_result"
    }
   ],
   "source": [
    "df_activity = pd.read_csv(\"../../data/protein_data.csv\")\n",
    "names = df_activity[\"name\"].tolist()\n"
   ]
  },
  {
   "cell_type": "code",
   "execution_count": 24,
   "metadata": {},
   "outputs": [],
   "source": [
    "rows_keep = []\n",
    "for i in names: \n",
    "    rows_keep.append(df.columns.get_loc(i))\n",
    "\n",
    "df[names].iloc[rows_keep]\n",
    "df[names].iloc[rows_keep].to_csv(\"../../data/distance_matrix_0930_filtered.csv\", index=False)"
   ]
  },
  {
   "cell_type": "code",
   "execution_count": 1,
   "metadata": {},
   "outputs": [],
   "source": [
    "import pandas as pd\n",
    "activity = pd.read_csv(\"../../data/protein_data.csv\")\n",
    "names = activity[\"name\"]\n",
    "selectivity = activity[\"label\"].tolist()"
   ]
  },
  {
   "cell_type": "code",
   "execution_count": 3,
   "metadata": {},
   "outputs": [
    {
     "data": {
      "text/plain": [
       "['H', 'Y', 'C']"
      ]
     },
     "execution_count": 3,
     "metadata": {},
     "output_type": "execute_result"
    }
   ],
   "source": [
    "list(set(selectivity))"
   ]
  },
  {
   "cell_type": "code",
   "execution_count": 60,
   "metadata": {},
   "outputs": [],
   "source": [
    "import networkx as nx \n",
    "import numpy as np\n",
    "import pandas as pd\n",
    "\n",
    "\n",
    "import os\n",
    "\n",
    "folder = \"../../data/communities/\"\n",
    "dist_mat = \"../../data/communities/md_cys.csv\"\n",
    "cutoff = 7.5\n",
    "#dist_matrix = np.genfromtxt(dist_mat, delimiter=',', skip_header=1).to_numpy()\n",
    "dist_matrix = pd.read_csv(dist_mat, index_col=0).to_numpy()\n",
    "names = np.genfromtxt(dist_mat, delimiter=',', dtype=str, max_rows=1)\n",
    "#print(dist_matrix.columns)\n",
    "\n",
    "std = np.std(dist_matrix.flatten())\n",
    "dist_matrix = (dist_matrix) / std\n",
    "dist_mask = np.where(dist_matrix > cutoff, 0, dist_matrix)\n",
    "G = nx.from_numpy_array(dist_mask)\n"
   ]
  },
  {
   "cell_type": "code",
   "execution_count": 61,
   "metadata": {},
   "outputs": [
    {
     "data": {
      "text/plain": [
       "83237.56839485315"
      ]
     },
     "execution_count": 61,
     "metadata": {},
     "output_type": "execute_result"
    }
   ],
   "source": [
    "# filter any values in the matrix that are greater than the cutoff\n",
    "sum(dist_mask.flatten())"
   ]
  },
  {
   "cell_type": "code",
   "execution_count": 62,
   "metadata": {},
   "outputs": [
    {
     "data": {
      "text/plain": [
       "(array([8.6900e+02, 0.0000e+00, 0.0000e+00, 0.0000e+00, 0.0000e+00,\n",
       "        0.0000e+00, 0.0000e+00, 0.0000e+00, 0.0000e+00, 0.0000e+00,\n",
       "        0.0000e+00, 0.0000e+00, 0.0000e+00, 0.0000e+00, 0.0000e+00,\n",
       "        0.0000e+00, 0.0000e+00, 0.0000e+00, 0.0000e+00, 0.0000e+00,\n",
       "        0.0000e+00, 0.0000e+00, 0.0000e+00, 0.0000e+00, 0.0000e+00,\n",
       "        0.0000e+00, 0.0000e+00, 0.0000e+00, 0.0000e+00, 0.0000e+00,\n",
       "        0.0000e+00, 0.0000e+00, 0.0000e+00, 0.0000e+00, 2.0000e+00,\n",
       "        1.2000e+01, 4.4000e+01, 4.0000e+01, 1.4000e+02, 3.2200e+02,\n",
       "        8.4800e+02, 1.8320e+03, 3.8120e+03, 7.7140e+03, 1.4070e+04,\n",
       "        2.2786e+04, 3.3814e+04, 4.4336e+04, 5.5156e+04, 6.2086e+04,\n",
       "        6.6416e+04, 6.5434e+04, 6.0844e+04, 5.5184e+04, 4.6778e+04,\n",
       "        3.9700e+04, 3.2786e+04, 2.7184e+04, 2.2098e+04, 1.8492e+04,\n",
       "        1.4888e+04, 1.1730e+04, 9.3700e+03, 7.1960e+03, 5.7940e+03,\n",
       "        4.6640e+03, 3.6080e+03, 2.8800e+03, 2.2880e+03, 1.7960e+03,\n",
       "        1.5900e+03, 1.3120e+03, 1.0100e+03, 8.5600e+02, 6.6600e+02,\n",
       "        5.0000e+02, 3.6000e+02, 3.0400e+02, 2.1200e+02, 1.5400e+02,\n",
       "        1.2200e+02, 1.0000e+02, 8.0000e+01, 8.0000e+01, 9.8000e+01,\n",
       "        8.0000e+01, 1.0000e+02, 7.6000e+01, 7.2000e+01, 8.4000e+01,\n",
       "        7.8000e+01, 6.6000e+01, 3.6000e+01, 4.4000e+01, 3.8000e+01,\n",
       "        1.2000e+01, 1.0000e+01, 2.0000e+00, 4.0000e+00, 2.0000e+00]),\n",
       " array([ 0.        ,  0.17184674,  0.34369348,  0.51554022,  0.68738696,\n",
       "         0.8592337 ,  1.03108044,  1.20292718,  1.37477393,  1.54662067,\n",
       "         1.71846741,  1.89031415,  2.06216089,  2.23400763,  2.40585437,\n",
       "         2.57770111,  2.74954785,  2.92139459,  3.09324133,  3.26508807,\n",
       "         3.43693481,  3.60878155,  3.7806283 ,  3.95247504,  4.12432178,\n",
       "         4.29616852,  4.46801526,  4.639862  ,  4.81170874,  4.98355548,\n",
       "         5.15540222,  5.32724896,  5.4990957 ,  5.67094244,  5.84278918,\n",
       "         6.01463592,  6.18648266,  6.35832941,  6.53017615,  6.70202289,\n",
       "         6.87386963,  7.04571637,  7.21756311,  7.38940985,  7.56125659,\n",
       "         7.73310333,  7.90495007,  8.07679681,  8.24864355,  8.42049029,\n",
       "         8.59233703,  8.76418378,  8.93603052,  9.10787726,  9.279724  ,\n",
       "         9.45157074,  9.62341748,  9.79526422,  9.96711096, 10.1389577 ,\n",
       "        10.31080444, 10.48265118, 10.65449792, 10.82634466, 10.9981914 ,\n",
       "        11.17003815, 11.34188489, 11.51373163, 11.68557837, 11.85742511,\n",
       "        12.02927185, 12.20111859, 12.37296533, 12.54481207, 12.71665881,\n",
       "        12.88850555, 13.06035229, 13.23219903, 13.40404577, 13.57589251,\n",
       "        13.74773926, 13.919586  , 14.09143274, 14.26327948, 14.43512622,\n",
       "        14.60697296, 14.7788197 , 14.95066644, 15.12251318, 15.29435992,\n",
       "        15.46620666, 15.6380534 , 15.80990014, 15.98174688, 16.15359363,\n",
       "        16.32544037, 16.49728711, 16.66913385, 16.84098059, 17.01282733,\n",
       "        17.18467407]),\n",
       " <a list of 100 Patch objects>)"
      ]
     },
     "execution_count": 62,
     "metadata": {},
     "output_type": "execute_result"
    },
    {
     "data": {
      "image/png": "[encoded data removed]",
      "text/plain": [
       "<Figure size 432x288 with 1 Axes>"
      ]
     },
     "metadata": {
      "needs_background": "light"
     },
     "output_type": "display_data"
    }
   ],
   "source": [
    "import matplotlib.pyplot as plt\n",
    "plt.hist(dist_matrix.flatten(), bins=100)"
   ]
  },
  {
   "cell_type": "code",
   "execution_count": 63,
   "metadata": {},
   "outputs": [],
   "source": [
    "spring_3D = nx.spring_layout(G,dim=3, seed = 1)\n",
    "#print(spring_3D)\n",
    "x_nodes = [spring_3D[i][0] for i in G]# x-coordinates of nodes\n",
    "y_nodes = [spring_3D[i][1] for i in G]# y-coordinates\n",
    "z_nodes = [spring_3D[i][2] for i in G]# z-coordinates\n",
    "edge_list = G.edges()\n",
    "\n",
    "\n",
    "x_edges=[]\n",
    "y_edges=[]\n",
    "z_edges=[]\n",
    "\n",
    "#need to fill these with all of the coordiates\n",
    "for edge in edge_list:\n",
    "    #format: [beginning,ending,None]\n",
    "    x_coords = [spring_3D[edge[0]][0],spring_3D[edge[1]][0],None]\n",
    "    x_edges += x_coords\n",
    "\n",
    "    y_coords = [spring_3D[edge[0]][1],spring_3D[edge[1]][1],None]\n",
    "    y_edges += y_coords\n",
    "\n",
    "    z_coords = [spring_3D[edge[0]][2],spring_3D[edge[1]][2],None]\n",
    "    z_edges += z_coords"
   ]
  },
  {
   "cell_type": "code",
   "execution_count": null,
   "metadata": {},
   "outputs": [],
   "source": [
    "import plotly.graph_objects as go\n",
    "\n",
    "#create a trace for the edges\n",
    "\n",
    "trace_edges = go.Scatter3d(x=x_edges,\n",
    "                        y=y_edges,\n",
    "                        z=z_edges,\n",
    "                        mode='lines',\n",
    "                        line=dict(color='black', width=0.3),\n",
    "                        hoverinfo='none')\n",
    "\n",
    "#create a trace for the nodes\n",
    "#color=community_label,text=club_labels,\n",
    "trace_nodes = go.Scatter3d(x=x_nodes,\n",
    "                         y=y_nodes,\n",
    "                        z=z_nodes,\n",
    "                        mode='markers',\n",
    "                        marker=dict(symbol='circle',\n",
    "                                    size=6,\n",
    "                                    colorscale='spectral',\n",
    "                       line=dict(color='black', width=0.2)),\n",
    "                        text=names)\n",
    "\n",
    "#we need to set the axis for the plot \n",
    "axis = dict(showbackground=False,\n",
    "            showline=False,\n",
    "            zeroline=False,\n",
    "            showgrid=True,\n",
    "            showticklabels=False,\n",
    "            title='')\n",
    "\n",
    "\n",
    "#also need to create the layout for our plot\n",
    "layout = go.Layout(title=\"Network, Cutoff = \" + str(cutoff),\n",
    "                width=1000,\n",
    "                height=1000,\n",
    "                showlegend=False,\n",
    "                scene=dict(xaxis=dict(axis),\n",
    "                        yaxis=dict(axis),\n",
    "                        zaxis=dict(axis),\n",
    "                        ),\n",
    "                margin=dict(t=100),\n",
    "                hovermode='closest')\n",
    "\n",
    "#Include the traces we want to plot and create a figure\n",
    "data = [trace_edges, trace_nodes]\n",
    "fig = go.Figure(data=data, layout=layout)\n",
    "\n",
    "#fig.show()\n",
    "import plotly.io as pio\n",
    "pio.write_html(fig, auto_open=True, file = str(cutoff)+\"_traj.html\")\n"
   ]
  },
  {
   "cell_type": "code",
   "execution_count": null,
   "metadata": {},
   "outputs": [],
   "source": []
  },
  {
   "cell_type": "code",
   "execution_count": null,
   "metadata": {},
   "outputs": [],
   "source": []
  }
 ],
 "metadata": {
  "kernelspec": {
   "display_name": "Python 3.7.7 ('tf_gpu')",
   "language": "python",
   "name": "python3"
  },
  "language_info": {
   "codemirror_mode": {
    "name": "ipython",
    "version": 3
   },
   "file_extension": ".py",
   "mimetype": "text/x-python",
   "name": "python",
   "nbconvert_exporter": "python",
   "pygments_lexer": "ipython3",
   "version": "3.7.7"
  },
  "orig_nbformat": 4,
  "vscode": {
   "interpreter": {
    "hash": "b9f75c467f7b14b985317ea28b97bc66e2d99ab5be50b832b99312f35140b3c1"
   }
  }
 },
 "nbformat": 4,
 "nbformat_minor": 2
}
