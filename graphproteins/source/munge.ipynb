{
 "cells": [
  {
   "cell_type": "code",
   "execution_count": 1,
   "metadata": {},
   "outputs": [],
   "source": [
    "import pandas as pd \n",
    "from sklearn_extra.cluster import KMedoids\n",
    "df = pd.read_csv(\"../../data/distance_matrix.csv\")"
   ]
  },
  {
   "cell_type": "code",
   "execution_count": 7,
   "metadata": {},
   "outputs": [
    {
     "name": "stdout",
     "output_type": "stream",
     "text": [
      "['304_4g3j', '0_3abb', '475_1ebe', '131_3abb', '169_1apx', '213_3abb', '546_1ebe', '523_1ebe', '0_4g3j', '333_4g3j', '431_1apx', '83_3abb', '547_1u5u', '477_1apx', '580_3abb', '97_4g3j', '589_1u5u', '60_3abb', '33_1u5u', '386_1u5u', '269_3abb', '564_1hch', '34_1hch', '269_4g3j', '145_1hch']\n"
     ]
    }
   ],
   "source": [
    "str_process = \"/ocean/projects/che160019p/santi92/cpet_proteins_full_hemes//compressed/304_4g3j_movie,/ocean/projects/che160019p/santi92/cpet_proteins_full_hemes//compressed/0_3abb_movie,/ocean/projects/che160019p/santi92/cpet_proteins_full_hemes//compressed/475_1ebe_movie,/ocean/projects/che160019p/santi92/cpet_proteins_full_hemes//compressed/131_3abb_movie,/ocean/projects/che160019p/santi92/cpet_proteins_full_hemes//compressed/169_1apx_movie,/ocean/projects/che160019p/santi92/cpet_proteins_full_hemes//compressed/213_3abb_movie,/ocean/projects/che160019p/santi92/cpet_proteins_full_hemes//compressed/546_1ebe_movie,/ocean/projects/che160019p/santi92/cpet_proteins_full_hemes//compressed/523_1ebe_movie,/ocean/projects/che160019p/santi92/cpet_proteins_full_hemes//compressed/0_4g3j_movie,/ocean/projects/che160019p/santi92/cpet_proteins_full_hemes//compressed/333_4g3j_movie,/ocean/projects/che160019p/santi92/cpet_proteins_full_hemes//compressed/431_1apx_movie,/ocean/projects/che160019p/santi92/cpet_proteins_full_hemes//compressed/83_3abb_movie,/ocean/projects/che160019p/santi92/cpet_proteins_full_hemes//compressed/547_1u5u_movie,/ocean/projects/che160019p/santi92/cpet_proteins_full_hemes//compressed/477_1apx_movie,/ocean/projects/che160019p/santi92/cpet_proteins_full_hemes//compressed/580_3abb_movie,/ocean/projects/che160019p/santi92/cpet_proteins_full_hemes//compressed/97_4g3j_movie,/ocean/projects/che160019p/santi92/cpet_proteins_full_hemes//compressed/589_1u5u_movie,/ocean/projects/che160019p/santi92/cpet_proteins_full_hemes//compressed/60_3abb_movie,/ocean/projects/che160019p/santi92/cpet_proteins_full_hemes//compressed/33_1u5u_movie,/ocean/projects/che160019p/santi92/cpet_proteins_full_hemes//compressed/386_1u5u_movie,/ocean/projects/che160019p/santi92/cpet_proteins_full_hemes//compressed/269_3abb_movie,/ocean/projects/che160019p/santi92/cpet_proteins_full_hemes//compressed/564_1hch_movie,/ocean/projects/che160019p/santi92/cpet_proteins_full_hemes//compressed/34_1hch_movie,/ocean/projects/che160019p/santi92/cpet_proteins_full_hemes//compressed/269_4g3j_movie,/ocean/projects/che160019p/santi92/cpet_proteins_full_hemes//compressed/145_1hch_movie\"\n",
    "list_raw = str_process.split(\",\")\n",
    "list_names = [x.split(\"/\")[-1] for x in list_raw]\n",
    "list_final = []\n",
    "for i in list_names:\n",
    "    list_final.append(i.split(\"_\")[0]+ \"_\" + i.split(\"_\")[1])\n",
    "print(list_final)\n"
   ]
  },
  {
   "cell_type": "code",
   "execution_count": 8,
   "metadata": {},
   "outputs": [],
   "source": [
    "# rename all files in folder with _ before compressed\n",
    "target_folder = \"../../data/md_traj/\"\n",
    "import os\n",
    "for filename in os.listdir(target_folder):\n",
    "    if filename.endswith(\"compressed.json\"):\n",
    "        os.rename(target_folder+filename, target_folder+filename.split(\"compressed\")[0] + \"_compressed.json\")\n",
    "        "
   ]
  },
  {
   "cell_type": "code",
   "execution_count": 2,
   "metadata": {},
   "outputs": [],
   "source": [
    "kmedoids = KMedoids(n_clusters=8, random_state=0).fit(df.to_numpy())"
   ]
  },
  {
   "cell_type": "code",
   "execution_count": 3,
   "metadata": {},
   "outputs": [
    {
     "data": {
      "text/plain": [
       "array([[0.3672454 , 0.48911968, 0.39720221, ..., 0.61171425, 0.38780669,\n",
       "        0.32752703],\n",
       "       [0.3559211 , 0.22800262, 0.71921385, ..., 0.18560684, 0.68494874,\n",
       "        0.58793369],\n",
       "       [0.50417035, 0.68891832, 0.35545772, ..., 0.82572811, 0.36869688,\n",
       "        0.35925779],\n",
       "       ...,\n",
       "       [0.55318636, 0.7290194 , 0.38185465, ..., 0.8322174 , 0.38003144,\n",
       "        0.43138478],\n",
       "       [0.48250227, 0.64000404, 0.36284149, ..., 0.77567669, 0.36656503,\n",
       "        0.37020488],\n",
       "       [0.41642951, 0.57502277, 0.38142054, ..., 0.73366195, 0.39416129,\n",
       "        0.33271664]])"
      ]
     },
     "execution_count": 3,
     "metadata": {},
     "output_type": "execute_result"
    }
   ],
   "source": [
    "kmedoids.cluster_centers_ # use this to get center point of "
   ]
  },
  {
   "cell_type": "code",
   "execution_count": 18,
   "metadata": {},
   "outputs": [],
   "source": [
    "df = pd.read_csv(\"../../data/distance_matrix_0930.csv\")\n",
    "df\n",
    "df[\"Unnamed: 0\"]\n",
    "df = df.drop([\"Unnamed: 0\"], axis=1)\n",
    "df = df.drop([\"Unnamed: 0.1\"], axis=1)\n",
    "df.to_csv(\"../../data/distance_matrix_0930.csv\", index=False)"
   ]
  },
  {
   "cell_type": "code",
   "execution_count": 3,
   "metadata": {},
   "outputs": [],
   "source": [
    "df = pd.read_csv(\"../../data/distance_matrix_0930.csv\")\n"
   ]
  },
  {
   "cell_type": "code",
   "execution_count": 14,
   "metadata": {},
   "outputs": [
    {
     "data": {
      "text/plain": [
       "['1a4e',\n",
       " '1apx',\n",
       " '1bgp',\n",
       " '1dgh',\n",
       " '1dz9',\n",
       " '1ebe',\n",
       " '1gvh',\n",
       " '1gwf',\n",
       " '1gwh',\n",
       " '1hch',\n",
       " '1iyn',\n",
       " '1jio',\n",
       " '1lga',\n",
       " '1ly9',\n",
       " '1m7s',\n",
       " '1mjt',\n",
       " '1mqf',\n",
       " '1n6b',\n",
       " '1p3v',\n",
       " '1pa2',\n",
       " '1qgj',\n",
       " '1qpa',\n",
       " '1si8',\n",
       " '1sj2',\n",
       " '1sy7',\n",
       " '1u5u',\n",
       " '1ued',\n",
       " '1ulw',\n",
       " '1v8x',\n",
       " '1wox',\n",
       " '2a9e',\n",
       " '2d09',\n",
       " '2e39',\n",
       " '2hi4',\n",
       " '2iqf',\n",
       " '2j2m',\n",
       " '2nnj',\n",
       " '2ve3',\n",
       " '2vxh',\n",
       " '2w0a',\n",
       " '2wh8',\n",
       " '2wm4',\n",
       " '2x5l',\n",
       " '2xkr',\n",
       " '2yp1',\n",
       " '2z3t',\n",
       " '2zdo',\n",
       " '2zqx',\n",
       " '3aba',\n",
       " '3abb',\n",
       " '3atj',\n",
       " '3b4x',\n",
       " '3bk9',\n",
       " '3cv8',\n",
       " '3czh',\n",
       " '3czy',\n",
       " '3e65',\n",
       " '3gas',\n",
       " '3hb6',\n",
       " '3hdl',\n",
       " '3lgm',\n",
       " '3m8m',\n",
       " '3mdr',\n",
       " '3mgx',\n",
       " '3mvr',\n",
       " '3n9y',\n",
       " '3nn1',\n",
       " '3ozv',\n",
       " '3qpi',\n",
       " '3r9b',\n",
       " '3re8',\n",
       " '3riv',\n",
       " '3rke',\n",
       " '3rqo',\n",
       " '3rwl',\n",
       " '3s4f',\n",
       " '3t3q',\n",
       " '3t3z',\n",
       " '3ut2',\n",
       " '3uw8',\n",
       " '3v8d',\n",
       " '3vm4',\n",
       " '3vxi',\n",
       " '3wrh',\n",
       " '3wsp',\n",
       " '3wxo',\n",
       " '3zj5',\n",
       " '3zkp',\n",
       " '4a5g',\n",
       " '4au9',\n",
       " '4aul',\n",
       " '4b2y',\n",
       " '4b7f',\n",
       " '4ccp',\n",
       " '4coh',\n",
       " '4cuo',\n",
       " '4d1o',\n",
       " '4d3t',\n",
       " '4d6z',\n",
       " '4dnj',\n",
       " '4e2p',\n",
       " '4eji',\n",
       " '4ep6',\n",
       " '4g2c',\n",
       " '4g3j',\n",
       " '4g7t',\n",
       " '4ggv',\n",
       " '4gqe',\n",
       " '4grc',\n",
       " '4gs1',\n",
       " '4gt2',\n",
       " '4hov',\n",
       " '4hsw',\n",
       " '4i91',\n",
       " '4ict',\n",
       " '4jm5',\n",
       " '4l0f',\n",
       " '4lht',\n",
       " '4lxj',\n",
       " '4nl5',\n",
       " '4nos',\n",
       " '4nz2',\n",
       " '4o1z',\n",
       " '4ph9',\n",
       " '4rm4',\n",
       " '4tt5',\n",
       " '4tvf',\n",
       " '4u72',\n",
       " '4ubs',\n",
       " '4uhi',\n",
       " '4wnu',\n",
       " '4xmc',\n",
       " '4y55',\n",
       " '4yt3',\n",
       " '4yzr',\n",
       " '5a12',\n",
       " '5a13',\n",
       " '5aog',\n",
       " '5dqn',\n",
       " '5edt',\n",
       " '5esn',\n",
       " '5fiw',\n",
       " '5foi',\n",
       " '5fuk',\n",
       " '5fw4',\n",
       " '5gnl',\n",
       " '5gt2',\n",
       " '5hdi',\n",
       " '5hiw',\n",
       " '5hwz',\n",
       " '5it1',\n",
       " '5jlc',\n",
       " '5jqr',\n",
       " '5kq3',\n",
       " '5kzl',\n",
       " '5l1s',\n",
       " '5l92',\n",
       " '5lie',\n",
       " '5o1l',\n",
       " '5o4k',\n",
       " '5sx0',\n",
       " '5tia',\n",
       " '5tz1',\n",
       " '5uo7',\n",
       " '5wp2',\n",
       " '5yem',\n",
       " '5ylw',\n",
       " '6a17',\n",
       " '6b11',\n",
       " '6cr2',\n",
       " '6fiy',\n",
       " '6fyj',\n",
       " '6g5o',\n",
       " '6gk5',\n",
       " '6h1l',\n",
       " '6h1t',\n",
       " '6iss',\n",
       " '6j95',\n",
       " '6l8h',\n",
       " '6mcw',\n",
       " '6mjm',\n",
       " '6mq0',\n",
       " '6nsw',\n",
       " '6rjn',\n",
       " '6rjr',\n",
       " '6tb8',\n",
       " '6u30',\n",
       " '6wk3']"
      ]
     },
     "execution_count": 14,
     "metadata": {},
     "output_type": "execute_result"
    }
   ],
   "source": [
    "df_activity = pd.read_csv(\"../../data/protein_data.csv\")\n",
    "names = df_activity[\"name\"].tolist()\n"
   ]
  },
  {
   "cell_type": "code",
   "execution_count": 24,
   "metadata": {},
   "outputs": [],
   "source": [
    "rows_keep = []\n",
    "for i in names: \n",
    "    rows_keep.append(df.columns.get_loc(i))\n",
    "\n",
    "df[names].iloc[rows_keep]\n",
    "df[names].iloc[rows_keep].to_csv(\"../../data/distance_matrix_0930_filtered.csv\", index=False)"
   ]
  },
  {
   "cell_type": "code",
   "execution_count": 1,
   "metadata": {},
   "outputs": [],
   "source": [
    "import pandas as pd\n",
    "activity = pd.read_csv(\"../../data/protein_data.csv\")\n",
    "names = activity[\"name\"]\n",
    "selectivity = activity[\"label\"].tolist()"
   ]
  },
  {
   "cell_type": "code",
   "execution_count": 3,
   "metadata": {},
   "outputs": [
    {
     "data": {
      "text/plain": [
       "['H', 'Y', 'C']"
      ]
     },
     "execution_count": 3,
     "metadata": {},
     "output_type": "execute_result"
    }
   ],
   "source": [
    "list(set(selectivity))"
   ]
  },
  {
   "cell_type": "code",
   "execution_count": 1,
   "metadata": {},
   "outputs": [],
   "source": [
    "import networkx as nx \n",
    "import numpy as np\n",
    "import pandas as pd\n",
    "\n",
    "\n",
    "import os\n",
    "\n",
    "folder = \"../../data/communities/\"\n",
    "dist_mat = \"../../data/communities/md_cys.csv\"\n",
    "cutoff = 7.5\n",
    "#dist_matrix = np.genfromtxt(dist_mat, delimiter=',', skip_header=1).to_numpy()\n",
    "dist_matrix = pd.read_csv(dist_mat, index_col=0).to_numpy()\n",
    "names = np.genfromtxt(dist_mat, delimiter=',', dtype=str, max_rows=1)\n",
    "#print(dist_matrix.columns)\n",
    "\n",
    "std = np.std(dist_matrix.flatten())\n",
    "dist_matrix = (dist_matrix) / std\n",
    "dist_mask = np.where(dist_matrix > cutoff, 0, dist_matrix)\n",
    "G = nx.from_numpy_array(dist_mask)\n"
   ]
  },
  {
   "cell_type": "code",
   "execution_count": 24,
   "metadata": {},
   "outputs": [],
   "source": [
    "from glob import glob\n",
    "import json \n",
    "import pandas as pd\n",
    "import numpy as np\n",
    "\n",
    "counts = []\n",
    "cutoff = 7.5\n",
    "root = \"../../data/communities/\"\n",
    "dist_mat = root + \"md_cys.csv\"\n",
    "name_file = root + \"topo_file_list.txt\"\n",
    "compressed_dictionaries = glob(root + \"*compressed.json\")\n",
    "# get all files with compressed in them \n",
    "\n",
    "dist_matrix = pd.read_csv(dist_mat, index_col=0).to_numpy()\n",
    "names = np.genfromtxt(name_file, dtype=str)\n",
    "\n",
    "names_stripped = [i.split(\"/\")[-1] for i in list(names)]\n",
    "index_stripped = [i.split(\"_\")[1] for i in names_stripped]\n",
    "protein_names = [i.split(\"_\")[3] for i in names_stripped]\n",
    "\n",
    "\n",
    "for ind, i in enumerate(protein_names):\n",
    "    with open(root + i + \"compressed.json\", \"r\") as f:\n",
    "        compressed_dict = json.load(f)\n",
    "    for k, v in compressed_dict.items():\n",
    "        index_center = v[\"index_center\"]\n",
    "        ind_center = int(v[\"name_center\"].split(\"/\")[-1].split(\"_\")[1])\n",
    "        if(ind_center == int(index_stripped[ind])):\n",
    "            count_temp = v[\"count\"]    \n",
    "            counts.append(count_temp)\n",
    "            break\n",
    "    else: \n",
    "        print(\"warning!, no match for \", i)\n",
    "\n",
    "            "
   ]
  },
  {
   "cell_type": "code",
   "execution_count": 9,
   "metadata": {},
   "outputs": [
    {
     "ename": "NameError",
     "evalue": "name 'pd' is not defined",
     "output_type": "error",
     "traceback": [
      "\u001b[0;31m---------------------------------------------------------------------------\u001b[0m",
      "\u001b[0;31mNameError\u001b[0m                                 Traceback (most recent call last)",
      "\u001b[0;32m<ipython-input-9-7612cf52366c>\u001b[0m in \u001b[0;36m<module>\u001b[0;34m\u001b[0m\n\u001b[1;32m      1\u001b[0m \u001b[0;32mimport\u001b[0m \u001b[0mmatplotlib\u001b[0m\u001b[0;34m.\u001b[0m\u001b[0mpyplot\u001b[0m \u001b[0;32mas\u001b[0m \u001b[0mplt\u001b[0m\u001b[0;34m\u001b[0m\u001b[0;34m\u001b[0m\u001b[0m\n\u001b[1;32m      2\u001b[0m \u001b[0;34m\u001b[0m\u001b[0m\n\u001b[0;32m----> 3\u001b[0;31m \u001b[0mdist_matrix\u001b[0m \u001b[0;34m=\u001b[0m \u001b[0mpd\u001b[0m\u001b[0;34m.\u001b[0m\u001b[0mread_csv\u001b[0m\u001b[0;34m(\u001b[0m\u001b[0mdist_mat\u001b[0m\u001b[0;34m)\u001b[0m\u001b[0;34m.\u001b[0m\u001b[0mto_numpy\u001b[0m\u001b[0;34m(\u001b[0m\u001b[0;34m)\u001b[0m\u001b[0;34m\u001b[0m\u001b[0;34m\u001b[0m\u001b[0m\n\u001b[0m\u001b[1;32m      4\u001b[0m \u001b[0mstd\u001b[0m \u001b[0;34m=\u001b[0m \u001b[0mnp\u001b[0m\u001b[0;34m.\u001b[0m\u001b[0mstd\u001b[0m\u001b[0;34m(\u001b[0m\u001b[0mdist_matrix\u001b[0m\u001b[0;34m)\u001b[0m\u001b[0;34m\u001b[0m\u001b[0;34m\u001b[0m\u001b[0m\n\u001b[1;32m      5\u001b[0m \u001b[0mdist_matrix\u001b[0m \u001b[0;34m=\u001b[0m \u001b[0;34m(\u001b[0m\u001b[0mdist_matrix\u001b[0m\u001b[0;34m)\u001b[0m \u001b[0;34m/\u001b[0m \u001b[0mstd\u001b[0m\u001b[0;34m\u001b[0m\u001b[0;34m\u001b[0m\u001b[0m\n",
      "\u001b[0;31mNameError\u001b[0m: name 'pd' is not defined"
     ]
    }
   ],
   "source": [
    "import matplotlib.pyplot as plt\n",
    "\n",
    "dist_matrix = pd.read_csv(dist_mat).to_numpy()\n",
    "std = np.std(dist_matrix)\n",
    "dist_matrix = (dist_matrix) / std\n",
    "plt.hist(dist_matrix.flatten(), bins=100)"
   ]
  },
  {
   "cell_type": "code",
   "execution_count": 14,
   "metadata": {},
   "outputs": [
    {
     "data": {
      "image/png": "[encoded data removed]",
      "text/plain": [
       "<Figure size 432x288 with 1 Axes>"
      ]
     },
     "metadata": {
      "needs_background": "light"
     },
     "output_type": "display_data"
    }
   ],
   "source": [
    "import matplotlib.pyplot as plt\n",
    "import pandas as pd\n",
    "import numpy as np \n",
    "\n",
    "dist_matrix = pd.read_csv(\"../../data/md_traj_hemes/distance_matrix.csv\", index_col=0).to_numpy()\n",
    "std = np.std(dist_matrix)\n",
    "dist_matrix = (dist_matrix) / std\n",
    "plt.hist(dist_matrix.flatten(), bins=100)\n",
    "plt.show()"
   ]
  },
  {
   "cell_type": "code",
   "execution_count": 2,
   "metadata": {},
   "outputs": [],
   "source": [
    "spring_3D = nx.spring_layout(G,dim=3, seed = 1)\n",
    "#print(spring_3D)\n",
    "x_nodes = [spring_3D[i][0] for i in G]# x-coordinates of nodes\n",
    "y_nodes = [spring_3D[i][1] for i in G]# y-coordinates\n",
    "z_nodes = [spring_3D[i][2] for i in G]# z-coordinates\n",
    "edge_list = G.edges()\n",
    "\n",
    "\n",
    "x_edges=[]\n",
    "y_edges=[]\n",
    "z_edges=[]\n",
    "\n",
    "#need to fill these with all of the coordiates\n",
    "for edge in edge_list:\n",
    "    #format: [beginning,ending,None]\n",
    "    x_coords = [spring_3D[edge[0]][0],spring_3D[edge[1]][0],None]\n",
    "    x_edges += x_coords\n",
    "\n",
    "    y_coords = [spring_3D[edge[0]][1],spring_3D[edge[1]][1],None]\n",
    "    y_edges += y_coords\n",
    "\n",
    "    z_coords = [spring_3D[edge[0]][2],spring_3D[edge[1]][2],None]\n",
    "    z_edges += z_coords"
   ]
  },
  {
   "cell_type": "code",
   "execution_count": 3,
   "metadata": {},
   "outputs": [],
   "source": [
    "import plotly.graph_objects as go\n",
    "\n",
    "#create a trace for the edges\n",
    "trace_edges = go.Scatter3d(x=x_edges,\n",
    "                        y=y_edges,\n",
    "                        z=z_edges,\n",
    "                        mode='lines',\n",
    "                        line=dict(color='black', width=0.3),\n",
    "                        hoverinfo='none')\n",
    "\n",
    "#create a trace for the nodes\n",
    "#color=community_label,text=club_labels,\n",
    "trace_nodes = go.Scatter3d(x=x_nodes,\n",
    "                         y=y_nodes,\n",
    "                        z=z_nodes,\n",
    "                        mode='markers',\n",
    "                        marker=dict(symbol='circle',\n",
    "                                    size=6,\n",
    "                                    colorscale='spectral',\n",
    "                       line=dict(color='black', width=0.2)),\n",
    "                        text=names)\n",
    "\n",
    "#we need to set the axis for the plot \n",
    "axis = dict(showbackground=False,\n",
    "            showline=False,\n",
    "            zeroline=False,\n",
    "            showgrid=True,\n",
    "            showticklabels=False,\n",
    "            title='')\n",
    "\n",
    "\n",
    "#also need to create the layout for our plot\n",
    "layout = go.Layout(title=\"Network, Cutoff = \" + str(cutoff),\n",
    "                width=1000,\n",
    "                height=1000,\n",
    "                showlegend=False,\n",
    "                scene=dict(xaxis=dict(axis),\n",
    "                        yaxis=dict(axis),\n",
    "                        zaxis=dict(axis),\n",
    "                        ),\n",
    "                margin=dict(t=100),\n",
    "                hovermode='closest')\n",
    "\n",
    "#Include the traces we want to plot and create a figure\n",
    "data = [trace_edges, trace_nodes]\n",
    "fig = go.Figure(data=data, layout=layout)\n",
    "\n",
    "fig.show()\n",
    "import plotly.io as pio\n",
    "#pio.write_html(fig, auto_open=True, file = str(cutoff)+\"_traj.html\")\n"
   ]
  },
  {
   "cell_type": "code",
   "execution_count": null,
   "metadata": {},
   "outputs": [],
   "source": []
  },
  {
   "cell_type": "code",
   "execution_count": null,
   "metadata": {},
   "outputs": [],
   "source": []
  }
 ],
 "metadata": {
  "kernelspec": {
   "display_name": "Python 3.7.7 ('tf_gpu')",
   "language": "python",
   "name": "python3"
  },
  "language_info": {
   "codemirror_mode": {
    "name": "ipython",
    "version": 3
   },
   "file_extension": ".py",
   "mimetype": "text/x-python",
   "name": "python",
   "nbconvert_exporter": "python",
   "pygments_lexer": "ipython3",
   "version": "3.7.7"
  },
  "orig_nbformat": 4,
  "vscode": {
   "interpreter": {
    "hash": "b9f75c467f7b14b985317ea28b97bc66e2d99ab5be50b832b99312f35140b3c1"
   }
  }
 },
 "nbformat": 4,
 "nbformat_minor": 2
}
